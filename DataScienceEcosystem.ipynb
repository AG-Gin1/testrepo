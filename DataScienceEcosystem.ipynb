{
 "cells": [
  {
   "cell_type": "markdown",
   "id": "6ea850ca",
   "metadata": {},
   "source": [
    "**Data Science Tools and Ecosystem**"
   ]
  },
  {
   "cell_type": "markdown",
   "id": "6922a9d1",
   "metadata": {},
   "source": [
    "In this notebook, Data Science Tools and Ecosystem are Summarized."
   ]
  },
  {
   "cell_type": "markdown",
   "id": "e96fad80",
   "metadata": {},
   "source": [
    "**Objectives:**\n",
    "  - List Popular languages for Data Science.\n",
    "  - Identify commonly used libraries in Data Science.\n",
    "  - Understand basic operations is Python.\n",
    "  - Perform unit conversions usin Python."
   ]
  },
  {
   "cell_type": "markdown",
   "id": "4b3bae90",
   "metadata": {},
   "source": [
    "Some of the popular languages that Data Scientists use are:\n",
    "1. Python\n",
    "2. R\n",
    "3. SQL\n",
    "4. Julia\n",
    "5. Scala\n",
    "6. Java\n",
    "7. MATLAB\n",
    "8. JavaScript\n",
    "9. SAS\n",
    "10. C/C++"
   ]
  },
  {
   "cell_type": "markdown",
   "id": "ae657dc1",
   "metadata": {},
   "source": [
    "Some of the commonly used libraries used by Data Scientists include:\n",
    " \n",
    " Python:\n",
    "   * 1. NumPy\n",
    "   * 2. Pandas\n",
    "   * 3. Matplotlib\n",
    "   * 4. Seaborn\n",
    "   * 5. Scikit-learn\n",
    "   * 6. TensorFlow\n",
    "   * 7. Keras\n",
    "   * 8. PyTorch\n",
    "\n",
    " R:\n",
    "   * 1. dplyr\n",
    "   * 2. ggplot2\n",
    "   * 3. tidyr\n",
    "   * 4. readr\n",
    "   * 5. caret\n",
    "   * 6. data.table"
   ]
  },
  {
   "cell_type": "markdown",
   "id": "f33ae02e",
   "metadata": {},
   "source": [
    "# Data Science tools:\n",
    "## Jupyter Notebook\n",
    "## RStudio\n",
    "## VS Code (with Python/R extensions)"
   ]
  },
  {
   "cell_type": "markdown",
   "id": "0d2a6b60",
   "metadata": {},
   "source": [
    "### Below are a few examples of evaluating arithmetic expressions in Python."
   ]
  },
  {
   "cell_type": "code",
   "execution_count": 3,
   "id": "67400a65",
   "metadata": {},
   "outputs": [
    {
     "data": {
      "text/plain": [
       "17"
      ]
     },
     "execution_count": 3,
     "metadata": {},
     "output_type": "execute_result"
    }
   ],
   "source": [
    "#This is a simple arithmetic expression to multiply then add integers.\n",
    "(3*4)+5"
   ]
  },
  {
   "cell_type": "code",
   "execution_count": 4,
   "id": "952aa648",
   "metadata": {},
   "outputs": [
    {
     "data": {
      "text/plain": [
       "3.3333333333333335"
      ]
     },
     "execution_count": 4,
     "metadata": {},
     "output_type": "execute_result"
    }
   ],
   "source": [
    "#This will convert 200 minutes to hours by dividing by 60.\n",
    "200/60"
   ]
  },
  {
   "cell_type": "markdown",
   "id": "ea5db8b8",
   "metadata": {},
   "source": [
    "## Author\n",
    "Alan Giovanni Hernandez Menchaca"
   ]
  }
 ],
 "metadata": {
  "kernelspec": {
   "display_name": "PR_Environment",
   "language": "python",
   "name": "python3"
  },
  "language_info": {
   "codemirror_mode": {
    "name": "ipython",
    "version": 3
   },
   "file_extension": ".py",
   "mimetype": "text/x-python",
   "name": "python",
   "nbconvert_exporter": "python",
   "pygments_lexer": "ipython3",
   "version": "3.13.5"
  }
 },
 "nbformat": 4,
 "nbformat_minor": 5
}
